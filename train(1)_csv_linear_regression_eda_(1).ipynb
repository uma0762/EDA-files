{
  "cells": [
    {
      "cell_type": "markdown",
      "metadata": {
        "id": "view-in-github",
        "colab_type": "text"
      },
      "source": [
        "<a href=\"https://colab.research.google.com/github/uma0762/EDA-files/blob/main/train(1)_csv_linear_regression_eda_(1).ipynb\" target=\"_parent\"><img src=\"https://colab.research.google.com/assets/colab-badge.svg\" alt=\"Open In Colab\"/></a>"
      ]
    },
    {
      "cell_type": "code",
      "execution_count": null,
      "id": "a1aa45ba",
      "metadata": {
        "id": "a1aa45ba"
      },
      "outputs": [],
      "source": [
        "import pandas as pd\n",
        "import numpy as np\n",
        "import matplotlib.pyplot as plt \n",
        "import seaborn as sns"
      ]
    },
    {
      "cell_type": "code",
      "execution_count": null,
      "id": "77b1a9c2",
      "metadata": {
        "id": "77b1a9c2"
      },
      "outputs": [],
      "source": [
        "import warnings\n",
        "warnings.filterwarnings('ignore')"
      ]
    },
    {
      "cell_type": "code",
      "execution_count": null,
      "id": "d6da802e",
      "metadata": {
        "id": "d6da802e"
      },
      "outputs": [],
      "source": [
        "data = pd.read_csv(\"train (1).csv\")"
      ]
    },
    {
      "cell_type": "code",
      "execution_count": null,
      "id": "30e69b93",
      "metadata": {
        "id": "30e69b93",
        "outputId": "5b7cd4f0-de43-4724-adf0-c87aa062c33b"
      },
      "outputs": [
        {
          "data": {
            "text/html": [
              "<div>\n",
              "<style scoped>\n",
              "    .dataframe tbody tr th:only-of-type {\n",
              "        vertical-align: middle;\n",
              "    }\n",
              "\n",
              "    .dataframe tbody tr th {\n",
              "        vertical-align: top;\n",
              "    }\n",
              "\n",
              "    .dataframe thead th {\n",
              "        text-align: right;\n",
              "    }\n",
              "</style>\n",
              "<table border=\"1\" class=\"dataframe\">\n",
              "  <thead>\n",
              "    <tr style=\"text-align: right;\">\n",
              "      <th></th>\n",
              "      <th>x</th>\n",
              "      <th>y</th>\n",
              "    </tr>\n",
              "  </thead>\n",
              "  <tbody>\n",
              "    <tr>\n",
              "      <th>0</th>\n",
              "      <td>24.0</td>\n",
              "      <td>21.549452</td>\n",
              "    </tr>\n",
              "    <tr>\n",
              "      <th>1</th>\n",
              "      <td>50.0</td>\n",
              "      <td>47.464463</td>\n",
              "    </tr>\n",
              "    <tr>\n",
              "      <th>2</th>\n",
              "      <td>15.0</td>\n",
              "      <td>17.218656</td>\n",
              "    </tr>\n",
              "    <tr>\n",
              "      <th>3</th>\n",
              "      <td>38.0</td>\n",
              "      <td>36.586398</td>\n",
              "    </tr>\n",
              "    <tr>\n",
              "      <th>4</th>\n",
              "      <td>87.0</td>\n",
              "      <td>87.288984</td>\n",
              "    </tr>\n",
              "  </tbody>\n",
              "</table>\n",
              "</div>"
            ],
            "text/plain": [
              "      x          y\n",
              "0  24.0  21.549452\n",
              "1  50.0  47.464463\n",
              "2  15.0  17.218656\n",
              "3  38.0  36.586398\n",
              "4  87.0  87.288984"
            ]
          },
          "execution_count": 4,
          "metadata": {},
          "output_type": "execute_result"
        }
      ],
      "source": [
        "data.head()"
      ]
    },
    {
      "cell_type": "code",
      "execution_count": null,
      "id": "ce818ee9",
      "metadata": {
        "id": "ce818ee9",
        "outputId": "c2160bc6-a4ae-4eb8-dac0-94f0ed6142de"
      },
      "outputs": [
        {
          "data": {
            "text/plain": [
              "(700, 2)"
            ]
          },
          "execution_count": 5,
          "metadata": {},
          "output_type": "execute_result"
        }
      ],
      "source": [
        "data.shape"
      ]
    },
    {
      "cell_type": "code",
      "execution_count": null,
      "id": "981c7c34",
      "metadata": {
        "id": "981c7c34",
        "outputId": "a51f832a-6fdf-4a92-9174-76b7ba99065f"
      },
      "outputs": [
        {
          "name": "stdout",
          "output_type": "stream",
          "text": [
            "<class 'pandas.core.frame.DataFrame'>\n",
            "RangeIndex: 700 entries, 0 to 699\n",
            "Data columns (total 2 columns):\n",
            " #   Column  Non-Null Count  Dtype  \n",
            "---  ------  --------------  -----  \n",
            " 0   x       700 non-null    float64\n",
            " 1   y       699 non-null    float64\n",
            "dtypes: float64(2)\n",
            "memory usage: 11.1 KB\n"
          ]
        }
      ],
      "source": [
        "data.info()"
      ]
    },
    {
      "cell_type": "code",
      "execution_count": null,
      "id": "0c7df6fc",
      "metadata": {
        "id": "0c7df6fc",
        "outputId": "e996b6ff-5b09-4963-f10a-42c3e4f6ef66"
      },
      "outputs": [
        {
          "data": {
            "text/html": [
              "<div>\n",
              "<style scoped>\n",
              "    .dataframe tbody tr th:only-of-type {\n",
              "        vertical-align: middle;\n",
              "    }\n",
              "\n",
              "    .dataframe tbody tr th {\n",
              "        vertical-align: top;\n",
              "    }\n",
              "\n",
              "    .dataframe thead th {\n",
              "        text-align: right;\n",
              "    }\n",
              "</style>\n",
              "<table border=\"1\" class=\"dataframe\">\n",
              "  <thead>\n",
              "    <tr style=\"text-align: right;\">\n",
              "      <th></th>\n",
              "      <th>x</th>\n",
              "      <th>y</th>\n",
              "    </tr>\n",
              "  </thead>\n",
              "  <tbody>\n",
              "    <tr>\n",
              "      <th>count</th>\n",
              "      <td>700.000000</td>\n",
              "      <td>699.000000</td>\n",
              "    </tr>\n",
              "    <tr>\n",
              "      <th>mean</th>\n",
              "      <td>54.985939</td>\n",
              "      <td>49.939869</td>\n",
              "    </tr>\n",
              "    <tr>\n",
              "      <th>std</th>\n",
              "      <td>134.681703</td>\n",
              "      <td>29.109217</td>\n",
              "    </tr>\n",
              "    <tr>\n",
              "      <th>min</th>\n",
              "      <td>0.000000</td>\n",
              "      <td>-3.839981</td>\n",
              "    </tr>\n",
              "    <tr>\n",
              "      <th>25%</th>\n",
              "      <td>25.000000</td>\n",
              "      <td>24.929968</td>\n",
              "    </tr>\n",
              "    <tr>\n",
              "      <th>50%</th>\n",
              "      <td>49.000000</td>\n",
              "      <td>48.973020</td>\n",
              "    </tr>\n",
              "    <tr>\n",
              "      <th>75%</th>\n",
              "      <td>75.000000</td>\n",
              "      <td>74.929911</td>\n",
              "    </tr>\n",
              "    <tr>\n",
              "      <th>max</th>\n",
              "      <td>3530.157369</td>\n",
              "      <td>108.871618</td>\n",
              "    </tr>\n",
              "  </tbody>\n",
              "</table>\n",
              "</div>"
            ],
            "text/plain": [
              "                 x           y\n",
              "count   700.000000  699.000000\n",
              "mean     54.985939   49.939869\n",
              "std     134.681703   29.109217\n",
              "min       0.000000   -3.839981\n",
              "25%      25.000000   24.929968\n",
              "50%      49.000000   48.973020\n",
              "75%      75.000000   74.929911\n",
              "max    3530.157369  108.871618"
            ]
          },
          "execution_count": 7,
          "metadata": {},
          "output_type": "execute_result"
        }
      ],
      "source": [
        "data.describe()"
      ]
    },
    {
      "cell_type": "code",
      "execution_count": null,
      "id": "70abfc91",
      "metadata": {
        "id": "70abfc91",
        "outputId": "6421256a-253e-44d3-860e-c6cb177abdda"
      },
      "outputs": [
        {
          "data": {
            "text/plain": [
              "x    0\n",
              "y    1\n",
              "dtype: int64"
            ]
          },
          "execution_count": 8,
          "metadata": {},
          "output_type": "execute_result"
        }
      ],
      "source": [
        "data.isna().sum()"
      ]
    },
    {
      "cell_type": "code",
      "execution_count": null,
      "id": "5ca8608f",
      "metadata": {
        "id": "5ca8608f",
        "outputId": "ab7701d9-7ccf-443f-8fc7-ff129b39f88b"
      },
      "outputs": [
        {
          "data": {
            "image/png": "[encoded data removed]",
            "text/plain": [
              "<Figure size 360x360 with 2 Axes>"
            ]
          },
          "metadata": {
            "needs_background": "light"
          },
          "output_type": "display_data"
        }
      ],
      "source": [
        "fig, axs = plt.subplots(2, figsize=(5,5))\n",
        "plt1 = sns.boxplot(data['x'], ax= axs[0])\n",
        "plt2 = sns.boxplot(data['y'],ax= axs[1] )\n",
        "plt.tight_layout()"
      ]
    },
    {
      "cell_type": "code",
      "execution_count": null,
      "id": "c64763fe",
      "metadata": {
        "id": "c64763fe",
        "outputId": "79941151-da69-4516-c193-16f5ed7d3214"
      },
      "outputs": [
        {
          "data": {
            "image/png": "[encoded data removed]",
            "text/plain": [
              "<Figure size 288x288 with 6 Axes>"
            ]
          },
          "metadata": {
            "needs_background": "light"
          },
          "output_type": "display_data"
        }
      ],
      "source": [
        "#EDA\n",
        "sns.pairplot(data,x_vars= ['x','y'],height= 2,kind='scatter')\n",
        "plt.show()"
      ]
    },
    {
      "cell_type": "code",
      "execution_count": null,
      "id": "bde31da2",
      "metadata": {
        "id": "bde31da2",
        "outputId": "56b7bab9-52a6-4e94-8c42-c46a1aa8778b"
      },
      "outputs": [
        {
          "data": {
            "image/png": "[encoded data removed]",
            "text/plain": [
              "<Figure size 432x288 with 2 Axes>"
            ]
          },
          "metadata": {
            "needs_background": "light"
          },
          "output_type": "display_data"
        }
      ],
      "source": [
        "sns.heatmap(data.corr(),cmap='YlGnBu', annot=True)\n",
        "plt.show()"
      ]
    },
    {
      "cell_type": "code",
      "execution_count": null,
      "id": "589de5bb",
      "metadata": {
        "id": "589de5bb"
      },
      "outputs": [],
      "source": [
        "X = data['x']\n",
        "y = data['y']"
      ]
    },
    {
      "cell_type": "code",
      "execution_count": null,
      "id": "c740b585",
      "metadata": {
        "id": "c740b585"
      },
      "outputs": [],
      "source": [
        "from sklearn.model_selection import train_test_split\n",
        "\n",
        "x_train,x_test,y_train,y_test = train_test_split(X,y,train_size=0.7, random_state=42)"
      ]
    },
    {
      "cell_type": "code",
      "execution_count": null,
      "id": "4514f3b5",
      "metadata": {
        "id": "4514f3b5"
      },
      "outputs": [],
      "source": [
        "import statsmodels.api as sm\n",
        "x_train_sm = sm.add_constant(x_train)\n",
        "\n",
        "lr = sm.OLS(y_train, x_train_sm).fit()"
      ]
    },
    {
      "cell_type": "code",
      "execution_count": null,
      "id": "28a5e70d",
      "metadata": {
        "id": "28a5e70d",
        "outputId": "1b03fdb5-9995-4fcb-d934-aa84f3149d79"
      },
      "outputs": [
        {
          "data": {
            "text/plain": [
              "const   -0.022725\n",
              "x        0.998703\n",
              "dtype: float64"
            ]
          },
          "execution_count": 32,
          "metadata": {},
          "output_type": "execute_result"
        }
      ],
      "source": [
        "lr.params"
      ]
    },
    {
      "cell_type": "code",
      "execution_count": null,
      "id": "b17557e7",
      "metadata": {
        "id": "b17557e7",
        "outputId": "0f835716-574c-4b52-c108-fde3db9feec6"
      },
      "outputs": [
        {
          "name": "stdout",
          "output_type": "stream",
          "text": [
            "                            OLS Regression Results                            \n",
            "==============================================================================\n",
            "Dep. Variable:                      y   R-squared:                       0.991\n",
            "Model:                            OLS   Adj. R-squared:                  0.991\n",
            "Method:                 Least Squares   F-statistic:                 5.108e+04\n",
            "Date:                Wed, 21 Sep 2022   Prob (F-statistic):               0.00\n",
            "Time:                        19:19:34   Log-Likelihood:                -1191.2\n",
            "No. Observations:                 489   AIC:                             2386.\n",
            "Df Residuals:                     487   BIC:                             2395.\n",
            "Df Model:                           1                                         \n",
            "Covariance Type:            nonrobust                                         \n",
            "==============================================================================\n",
            "                 coef    std err          t      P>|t|      [0.025      0.975]\n",
            "------------------------------------------------------------------------------\n",
            "const         -0.0227      0.259     -0.088      0.930      -0.531       0.486\n",
            "x              0.9987      0.004    226.011      0.000       0.990       1.007\n",
            "==============================================================================\n",
            "Omnibus:                        0.375   Durbin-Watson:                   1.858\n",
            "Prob(Omnibus):                  0.829   Jarque-Bera (JB):                0.233\n",
            "Skew:                          -0.033   Prob(JB):                        0.890\n",
            "Kurtosis:                       3.084   Cond. No.                         121.\n",
            "==============================================================================\n",
            "\n",
            "Notes:\n",
            "[1] Standard Errors assume that the covariance matrix of the errors is correctly specified.\n"
          ]
        }
      ],
      "source": [
        "print(lr.summary())"
      ]
    },
    {
      "cell_type": "code",
      "execution_count": null,
      "id": "46e0cf10",
      "metadata": {
        "id": "46e0cf10",
        "outputId": "8859184c-cd52-4a06-ae27-35f0aebaf740"
      },
      "outputs": [
        {
          "data": {
            "image/png": "[encoded data removed]",
            "text/plain": [
              "<Figure size 432x288 with 1 Axes>"
            ]
          },
          "metadata": {
            "needs_background": "light"
          },
          "output_type": "display_data"
        }
      ],
      "source": [
        "plt.scatter(x_train,y_train)\n",
        "plt.plot(y_train, -0.0227 +0.9987*y_train , 'r')\n",
        "plt.show()"
      ]
    },
    {
      "cell_type": "code",
      "execution_count": null,
      "id": "55feb0b3",
      "metadata": {
        "id": "55feb0b3"
      },
      "outputs": [],
      "source": [
        "y_train_pred =lr.predict(x_train_sm)\n",
        "res = (y_train - y_train_pred)"
      ]
    },
    {
      "cell_type": "code",
      "execution_count": null,
      "id": "509dc973",
      "metadata": {
        "id": "509dc973",
        "outputId": "8d937776-985b-4cee-c885-59c6b194b914"
      },
      "outputs": [
        {
          "data": {
            "text/plain": [
              "<Figure size 432x288 with 0 Axes>"
            ]
          },
          "metadata": {},
          "output_type": "display_data"
        },
        {
          "data": {
            "image/png": "[encoded data removed]",
            "text/plain": [
              "<Figure size 360x360 with 1 Axes>"
            ]
          },
          "metadata": {
            "needs_background": "light"
          },
          "output_type": "display_data"
        }
      ],
      "source": [
        "fig = plt.figure()\n",
        "sns.displot(res,bins=15, kde=True)\n",
        "plt.show()"
      ]
    },
    {
      "cell_type": "code",
      "execution_count": null,
      "id": "bd2171e6",
      "metadata": {
        "id": "bd2171e6",
        "outputId": "b1ae488b-6a1b-4d58-fc1a-d210586a5b86"
      },
      "outputs": [
        {
          "data": {
            "image/png": "[encoded data removed]",
            "text/plain": [
              "<Figure size 432x288 with 1 Axes>"
            ]
          },
          "metadata": {
            "needs_background": "light"
          },
          "output_type": "display_data"
        }
      ],
      "source": [
        "plt.scatter(x_train,res)\n",
        "plt.show()"
      ]
    },
    {
      "cell_type": "code",
      "execution_count": null,
      "id": "1aeb343c",
      "metadata": {
        "id": "1aeb343c"
      },
      "outputs": [],
      "source": [
        "x_test_sm = sm.add_constant(x_test)\n",
        "y_test_sm = sm.add_constant(y_test)\n",
        "y_pred =lr.predict(x_test_sm)\n",
        "x_pred =lr.predict(y_test_sm)"
      ]
    },
    {
      "cell_type": "code",
      "execution_count": null,
      "id": "fb4695a9",
      "metadata": {
        "id": "fb4695a9",
        "outputId": "6d07c821-d9a4-4f5c-a077-177c0a169d26"
      },
      "outputs": [
        {
          "data": {
            "text/plain": [
              "158    99.847570\n",
              "500    96.851461\n",
              "396    19.951334\n",
              "155    85.865729\n",
              "321    16.955225\n",
              "dtype: float64"
            ]
          },
          "execution_count": 61,
          "metadata": {},
          "output_type": "execute_result"
        }
      ],
      "source": [
        "y_pred.head()"
      ]
    },
    {
      "cell_type": "code",
      "execution_count": null,
      "id": "ed02e1d4",
      "metadata": {
        "id": "ed02e1d4",
        "outputId": "16fdbff0-d594-442b-a28c-66eae2775b09"
      },
      "outputs": [
        {
          "data": {
            "text/plain": [
              "158    96.475229\n",
              "500    94.151302\n",
              "396    17.090561\n",
              "155    86.685984\n",
              "321    17.291604\n",
              "dtype: float64"
            ]
          },
          "execution_count": 62,
          "metadata": {},
          "output_type": "execute_result"
        }
      ],
      "source": [
        "x_pred.head()"
      ]
    },
    {
      "cell_type": "code",
      "execution_count": null,
      "id": "a9ea7ec6",
      "metadata": {
        "id": "a9ea7ec6"
      },
      "outputs": [],
      "source": [
        "from sklearn.metrics import mean_squared_error\n",
        "from sklearn.metrics import r2_score"
      ]
    },
    {
      "cell_type": "code",
      "execution_count": null,
      "id": "ab08f239",
      "metadata": {
        "id": "ab08f239",
        "outputId": "57283ca0-211f-46a1-cc6a-8dba70849b47"
      },
      "outputs": [
        {
          "data": {
            "text/plain": [
              "0.1088690699535768"
            ]
          },
          "execution_count": 66,
          "metadata": {},
          "output_type": "execute_result"
        }
      ],
      "source": [
        "mean_squared_error(x_test,y_pred)"
      ]
    },
    {
      "cell_type": "code",
      "execution_count": null,
      "id": "ba491737",
      "metadata": {
        "id": "ba491737",
        "outputId": "b580d5dd-eddd-4302-ab33-b95c3c49e234"
      },
      "outputs": [
        {
          "name": "stdout",
          "output_type": "stream",
          "text": [
            "0.9999981268197753\n"
          ]
        }
      ],
      "source": [
        "print(r2_score(x_test,y_pred))"
      ]
    },
    {
      "cell_type": "code",
      "execution_count": null,
      "id": "0c038f71",
      "metadata": {
        "id": "0c038f71",
        "outputId": "16f32340-1071-4c86-9424-65e7146dd1ae"
      },
      "outputs": [
        {
          "data": {
            "text/plain": [
              "649    89.0\n",
              "291     1.0\n",
              "420    68.0\n",
              "177    82.0\n",
              "456    89.0\n",
              "       ... \n",
              "71     64.0\n",
              "106    71.0\n",
              "270    46.0\n",
              "435    28.0\n",
              "102    46.0\n",
              "Name: x, Length: 489, dtype: float64"
            ]
          },
          "execution_count": 49,
          "metadata": {},
          "output_type": "execute_result"
        }
      ],
      "source": [
        "x_train"
      ]
    },
    {
      "cell_type": "code",
      "execution_count": null,
      "id": "b3bd214c",
      "metadata": {
        "id": "b3bd214c"
      },
      "outputs": [],
      "source": [
        "df = pd.DataFrame()\n",
        "df['x_train']=list(x_train)\n",
        "df['y_train']= list(y_train)"
      ]
    },
    {
      "cell_type": "code",
      "execution_count": null,
      "id": "8cb6ad6a",
      "metadata": {
        "id": "8cb6ad6a",
        "outputId": "0c3948ac-e673-4742-f588-01fe15601fbb"
      },
      "outputs": [
        {
          "data": {
            "text/html": [
              "<div>\n",
              "<style scoped>\n",
              "    .dataframe tbody tr th:only-of-type {\n",
              "        vertical-align: middle;\n",
              "    }\n",
              "\n",
              "    .dataframe tbody tr th {\n",
              "        vertical-align: top;\n",
              "    }\n",
              "\n",
              "    .dataframe thead th {\n",
              "        text-align: right;\n",
              "    }\n",
              "</style>\n",
              "<table border=\"1\" class=\"dataframe\">\n",
              "  <thead>\n",
              "    <tr style=\"text-align: right;\">\n",
              "      <th></th>\n",
              "      <th>x_train</th>\n",
              "      <th>y_train</th>\n",
              "    </tr>\n",
              "  </thead>\n",
              "  <tbody>\n",
              "    <tr>\n",
              "      <th>0</th>\n",
              "      <td>89.0</td>\n",
              "      <td>84.480457</td>\n",
              "    </tr>\n",
              "    <tr>\n",
              "      <th>1</th>\n",
              "      <td>1.0</td>\n",
              "      <td>3.778210</td>\n",
              "    </tr>\n",
              "    <tr>\n",
              "      <th>2</th>\n",
              "      <td>68.0</td>\n",
              "      <td>64.432316</td>\n",
              "    </tr>\n",
              "    <tr>\n",
              "      <th>3</th>\n",
              "      <td>82.0</td>\n",
              "      <td>86.790023</td>\n",
              "    </tr>\n",
              "    <tr>\n",
              "      <th>4</th>\n",
              "      <td>89.0</td>\n",
              "      <td>91.729607</td>\n",
              "    </tr>\n",
              "  </tbody>\n",
              "</table>\n",
              "</div>"
            ],
            "text/plain": [
              "   x_train    y_train\n",
              "0     89.0  84.480457\n",
              "1      1.0   3.778210\n",
              "2     68.0  64.432316\n",
              "3     82.0  86.790023\n",
              "4     89.0  91.729607"
            ]
          },
          "execution_count": 51,
          "metadata": {},
          "output_type": "execute_result"
        }
      ],
      "source": [
        "df.head()"
      ]
    },
    {
      "cell_type": "code",
      "execution_count": null,
      "id": "531d03f6",
      "metadata": {
        "id": "531d03f6",
        "outputId": "bca30af2-294d-46fa-e5e2-bd53e292ddaa"
      },
      "outputs": [
        {
          "data": {
            "text/plain": [
              "(489,)"
            ]
          },
          "execution_count": 53,
          "metadata": {},
          "output_type": "execute_result"
        }
      ],
      "source": [
        "y_train.shape"
      ]
    },
    {
      "cell_type": "code",
      "execution_count": null,
      "id": "3601a554",
      "metadata": {
        "id": "3601a554",
        "outputId": "d54895e6-beb0-419a-8dde-6afc77dcc417"
      },
      "outputs": [
        {
          "data": {
            "text/plain": [
              "array([[ 89.],\n",
              "       [  1.],\n",
              "       [ 68.],\n",
              "       [ 82.],\n",
              "       [ 89.],\n",
              "       [ 75.],\n",
              "       [ 32.],\n",
              "       [  8.],\n",
              "       [ 90.],\n",
              "       [ 83.],\n",
              "       [ 67.],\n",
              "       [ 49.],\n",
              "       [ 54.],\n",
              "       [ 60.],\n",
              "       [ 99.],\n",
              "       [ 55.],\n",
              "       [ 81.],\n",
              "       [ 16.],\n",
              "       [ 26.],\n",
              "       [ 62.],\n",
              "       [ 21.],\n",
              "       [ 57.],\n",
              "       [ 35.],\n",
              "       [  0.],\n",
              "       [ 31.],\n",
              "       [ 60.],\n",
              "       [  5.],\n",
              "       [ 58.],\n",
              "       [ 92.],\n",
              "       [ 74.],\n",
              "       [ 84.],\n",
              "       [100.],\n",
              "       [ 85.],\n",
              "       [ 83.],\n",
              "       [  3.],\n",
              "       [ 89.],\n",
              "       [ 10.],\n",
              "       [ 37.],\n",
              "       [ 77.],\n",
              "       [  4.],\n",
              "       [ 34.],\n",
              "       [ 30.],\n",
              "       [ 91.],\n",
              "       [ 25.],\n",
              "       [ 15.],\n",
              "       [ 48.],\n",
              "       [ 51.],\n",
              "       [ 92.],\n",
              "       [  3.],\n",
              "       [ 65.],\n",
              "       [ 22.],\n",
              "       [ 42.],\n",
              "       [ 41.],\n",
              "       [ 74.],\n",
              "       [ 12.],\n",
              "       [ 49.],\n",
              "       [ 17.],\n",
              "       [ 83.],\n",
              "       [ 76.],\n",
              "       [ 91.],\n",
              "       [ 26.],\n",
              "       [ 45.],\n",
              "       [ 67.],\n",
              "       [ 41.],\n",
              "       [ 24.],\n",
              "       [ 81.],\n",
              "       [ 68.],\n",
              "       [ 29.],\n",
              "       [ 58.],\n",
              "       [ 79.],\n",
              "       [ 58.],\n",
              "       [ 48.],\n",
              "       [ 66.],\n",
              "       [ 35.],\n",
              "       [ 48.],\n",
              "       [ 62.],\n",
              "       [  8.],\n",
              "       [ 27.],\n",
              "       [ 48.],\n",
              "       [100.],\n",
              "       [  5.],\n",
              "       [ 86.],\n",
              "       [ 26.],\n",
              "       [ 59.],\n",
              "       [ 49.],\n",
              "       [ 71.],\n",
              "       [ 97.],\n",
              "       [ 65.],\n",
              "       [ 28.],\n",
              "       [  2.],\n",
              "       [ 36.],\n",
              "       [ 58.],\n",
              "       [ 90.],\n",
              "       [ 63.],\n",
              "       [ 16.],\n",
              "       [ 50.],\n",
              "       [ 44.],\n",
              "       [ 21.],\n",
              "       [ 35.],\n",
              "       [ 99.],\n",
              "       [ 56.],\n",
              "       [ 15.],\n",
              "       [ 86.],\n",
              "       [ 31.],\n",
              "       [ 77.],\n",
              "       [ 63.],\n",
              "       [ 73.],\n",
              "       [ 14.],\n",
              "       [ 97.],\n",
              "       [ 26.],\n",
              "       [ 80.],\n",
              "       [ 50.],\n",
              "       [ 24.],\n",
              "       [ 31.],\n",
              "       [ 19.],\n",
              "       [ 35.],\n",
              "       [ 32.],\n",
              "       [  6.],\n",
              "       [ 24.],\n",
              "       [ 88.],\n",
              "       [ 58.],\n",
              "       [ 85.],\n",
              "       [ 89.],\n",
              "       [ 50.],\n",
              "       [  8.],\n",
              "       [ 50.],\n",
              "       [100.],\n",
              "       [ 98.],\n",
              "       [ 50.],\n",
              "       [ 93.],\n",
              "       [ 41.],\n",
              "       [ 26.],\n",
              "       [ 23.],\n",
              "       [ 55.],\n",
              "       [ 89.],\n",
              "       [ 11.],\n",
              "       [ 56.],\n",
              "       [ 51.],\n",
              "       [ 69.],\n",
              "       [ 95.],\n",
              "       [ 54.],\n",
              "       [ 60.],\n",
              "       [ 73.],\n",
              "       [ 24.],\n",
              "       [ 91.],\n",
              "       [ 50.],\n",
              "       [ 95.],\n",
              "       [ 84.],\n",
              "       [ 61.],\n",
              "       [ 33.],\n",
              "       [ 21.],\n",
              "       [ 48.],\n",
              "       [ 54.],\n",
              "       [ 26.],\n",
              "       [ 34.],\n",
              "       [ 25.],\n",
              "       [ 16.],\n",
              "       [ 45.],\n",
              "       [ 68.],\n",
              "       [ 34.],\n",
              "       [ 36.],\n",
              "       [ 67.],\n",
              "       [ 19.],\n",
              "       [ 45.],\n",
              "       [ 37.],\n",
              "       [ 55.],\n",
              "       [ 26.],\n",
              "       [ 19.],\n",
              "       [100.],\n",
              "       [ 85.],\n",
              "       [ 38.],\n",
              "       [ 50.],\n",
              "       [ 20.],\n",
              "       [ 77.],\n",
              "       [ 98.],\n",
              "       [ 11.],\n",
              "       [ 47.],\n",
              "       [  5.],\n",
              "       [ 13.],\n",
              "       [ 97.],\n",
              "       [ 49.],\n",
              "       [ 29.],\n",
              "       [ 76.],\n",
              "       [ 85.],\n",
              "       [ 73.],\n",
              "       [ 51.],\n",
              "       [  7.],\n",
              "       [ 51.],\n",
              "       [100.],\n",
              "       [ 64.],\n",
              "       [ 39.],\n",
              "       [ 79.],\n",
              "       [ 56.],\n",
              "       [ 76.],\n",
              "       [ 86.],\n",
              "       [ 55.],\n",
              "       [ 65.],\n",
              "       [ 39.],\n",
              "       [ 42.],\n",
              "       [ 75.],\n",
              "       [ 89.],\n",
              "       [ 47.],\n",
              "       [ 15.],\n",
              "       [ 36.],\n",
              "       [ 34.],\n",
              "       [  0.],\n",
              "       [ 80.],\n",
              "       [ 77.],\n",
              "       [ 25.],\n",
              "       [ 75.],\n",
              "       [ 10.],\n",
              "       [ 10.],\n",
              "       [ 86.],\n",
              "       [ 37.],\n",
              "       [ 64.],\n",
              "       [ 56.],\n",
              "       [ 61.],\n",
              "       [ 65.],\n",
              "       [  2.],\n",
              "       [ 43.],\n",
              "       [ 49.],\n",
              "       [ 78.],\n",
              "       [ 86.],\n",
              "       [ 46.],\n",
              "       [ 87.],\n",
              "       [  1.],\n",
              "       [ 95.],\n",
              "       [ 32.],\n",
              "       [ 27.],\n",
              "       [ 48.],\n",
              "       [ 75.],\n",
              "       [ 70.],\n",
              "       [ 59.],\n",
              "       [ 48.],\n",
              "       [ 33.],\n",
              "       [  4.],\n",
              "       [ 37.],\n",
              "       [ 45.],\n",
              "       [  8.],\n",
              "       [ 70.],\n",
              "       [ 34.],\n",
              "       [ 25.],\n",
              "       [ 93.],\n",
              "       [ 39.],\n",
              "       [ 84.],\n",
              "       [ 54.],\n",
              "       [ 11.],\n",
              "       [ 92.],\n",
              "       [ 54.],\n",
              "       [ 24.],\n",
              "       [ 88.],\n",
              "       [ 17.],\n",
              "       [ 79.],\n",
              "       [ 55.],\n",
              "       [ 95.],\n",
              "       [ 51.],\n",
              "       [ 16.],\n",
              "       [ 49.],\n",
              "       [ 68.],\n",
              "       [ 78.],\n",
              "       [ 36.],\n",
              "       [ 76.],\n",
              "       [ 39.],\n",
              "       [ 64.],\n",
              "       [ 16.],\n",
              "       [ 70.],\n",
              "       [  3.],\n",
              "       [ 13.],\n",
              "       [ 89.],\n",
              "       [ 21.],\n",
              "       [  3.],\n",
              "       [ 52.],\n",
              "       [ 42.],\n",
              "       [ 76.],\n",
              "       [ 26.],\n",
              "       [ 56.],\n",
              "       [ 61.],\n",
              "       [ 94.],\n",
              "       [  5.],\n",
              "       [ 88.],\n",
              "       [ 94.],\n",
              "       [ 44.],\n",
              "       [ 49.],\n",
              "       [ 29.],\n",
              "       [ 54.],\n",
              "       [ 57.],\n",
              "       [ 20.],\n",
              "       [ 22.],\n",
              "       [ 89.],\n",
              "       [ 97.],\n",
              "       [ 48.],\n",
              "       [ 54.],\n",
              "       [  0.],\n",
              "       [ 25.],\n",
              "       [ 52.],\n",
              "       [ 94.],\n",
              "       [ 66.],\n",
              "       [ 24.],\n",
              "       [ 73.],\n",
              "       [ 91.],\n",
              "       [ 36.],\n",
              "       [ 96.],\n",
              "       [  4.],\n",
              "       [ 61.],\n",
              "       [  7.],\n",
              "       [ 44.],\n",
              "       [ 74.],\n",
              "       [ 87.],\n",
              "       [ 67.],\n",
              "       [ 81.],\n",
              "       [ 11.],\n",
              "       [ 24.],\n",
              "       [ 47.],\n",
              "       [ 81.],\n",
              "       [ 49.],\n",
              "       [ 42.],\n",
              "       [ 63.],\n",
              "       [ 75.],\n",
              "       [ 48.],\n",
              "       [ 25.],\n",
              "       [ 46.],\n",
              "       [ 43.],\n",
              "       [ 18.],\n",
              "       [ 98.],\n",
              "       [ 17.],\n",
              "       [ 86.],\n",
              "       [ 90.],\n",
              "       [ 93.],\n",
              "       [ 87.],\n",
              "       [ 10.],\n",
              "       [ 49.],\n",
              "       [ 50.],\n",
              "       [ 77.],\n",
              "       [ 99.],\n",
              "       [ 96.],\n",
              "       [ 38.],\n",
              "       [ 35.],\n",
              "       [ 44.],\n",
              "       [ 99.],\n",
              "       [ 98.],\n",
              "       [ 78.],\n",
              "       [ 10.],\n",
              "       [  8.],\n",
              "       [ 94.],\n",
              "       [ 37.],\n",
              "       [ 30.],\n",
              "       [ 87.],\n",
              "       [ 52.],\n",
              "       [ 16.],\n",
              "       [ 91.],\n",
              "       [ 21.],\n",
              "       [ 25.],\n",
              "       [  7.],\n",
              "       [ 94.],\n",
              "       [ 43.],\n",
              "       [ 93.],\n",
              "       [ 90.],\n",
              "       [ 80.],\n",
              "       [ 22.],\n",
              "       [ 56.],\n",
              "       [ 15.],\n",
              "       [ 55.],\n",
              "       [ 67.],\n",
              "       [ 29.],\n",
              "       [ 59.],\n",
              "       [ 27.],\n",
              "       [ 70.],\n",
              "       [ 95.],\n",
              "       [ 24.],\n",
              "       [  1.],\n",
              "       [ 12.],\n",
              "       [ 70.],\n",
              "       [ 54.],\n",
              "       [ 87.],\n",
              "       [ 44.],\n",
              "       [  8.],\n",
              "       [ 35.],\n",
              "       [ 90.],\n",
              "       [ 48.],\n",
              "       [ 61.],\n",
              "       [ 51.],\n",
              "       [ 42.],\n",
              "       [ 42.],\n",
              "       [ 74.],\n",
              "       [ 20.],\n",
              "       [ 72.],\n",
              "       [ 89.],\n",
              "       [ 62.],\n",
              "       [ 32.],\n",
              "       [ 95.],\n",
              "       [ 78.],\n",
              "       [ 49.],\n",
              "       [ 25.],\n",
              "       [ 21.],\n",
              "       [ 95.],\n",
              "       [ 21.],\n",
              "       [ 19.],\n",
              "       [ 37.],\n",
              "       [ 45.],\n",
              "       [ 55.],\n",
              "       [ 19.],\n",
              "       [ 54.],\n",
              "       [ 26.],\n",
              "       [ 84.],\n",
              "       [ 86.],\n",
              "       [ 32.],\n",
              "       [ 21.],\n",
              "       [ 71.],\n",
              "       [  5.],\n",
              "       [ 59.],\n",
              "       [ 55.],\n",
              "       [ 31.],\n",
              "       [ 12.],\n",
              "       [ 26.],\n",
              "       [ 82.],\n",
              "       [100.],\n",
              "       [ 62.],\n",
              "       [ 24.],\n",
              "       [ 43.],\n",
              "       [ 10.],\n",
              "       [ 49.],\n",
              "       [  8.],\n",
              "       [ 25.],\n",
              "       [  9.],\n",
              "       [ 50.],\n",
              "       [ 30.],\n",
              "       [ 31.],\n",
              "       [ 90.],\n",
              "       [ 50.],\n",
              "       [ 60.],\n",
              "       [100.],\n",
              "       [ 71.],\n",
              "       [ 41.],\n",
              "       [ 23.],\n",
              "       [ 77.],\n",
              "       [ 17.],\n",
              "       [ 49.],\n",
              "       [ 58.],\n",
              "       [ 97.],\n",
              "       [ 39.],\n",
              "       [ 70.],\n",
              "       [ 65.],\n",
              "       [ 13.],\n",
              "       [ 91.],\n",
              "       [ 16.],\n",
              "       [ 81.],\n",
              "       [ 58.],\n",
              "       [ 20.],\n",
              "       [ 30.],\n",
              "       [ 98.],\n",
              "       [ 51.],\n",
              "       [ 88.],\n",
              "       [ 93.],\n",
              "       [  7.],\n",
              "       [ 16.],\n",
              "       [ 30.],\n",
              "       [ 10.],\n",
              "       [ 19.],\n",
              "       [ 25.],\n",
              "       [ 52.],\n",
              "       [ 87.],\n",
              "       [ 13.],\n",
              "       [ 92.],\n",
              "       [  6.],\n",
              "       [ 38.],\n",
              "       [ 10.],\n",
              "       [ 38.],\n",
              "       [ 38.],\n",
              "       [ 30.],\n",
              "       [ 93.],\n",
              "       [ 44.],\n",
              "       [ 99.],\n",
              "       [ 68.],\n",
              "       [ 58.],\n",
              "       [ 86.],\n",
              "       [ 71.],\n",
              "       [ 26.],\n",
              "       [ 34.],\n",
              "       [ 67.],\n",
              "       [ 72.],\n",
              "       [ 50.],\n",
              "       [ 39.],\n",
              "       [  0.],\n",
              "       [ 68.],\n",
              "       [ 64.],\n",
              "       [ 71.],\n",
              "       [ 46.],\n",
              "       [ 28.],\n",
              "       [ 46.]])"
            ]
          },
          "execution_count": 54,
          "metadata": {},
          "output_type": "execute_result"
        }
      ],
      "source": [
        "np.array([x_train]).reshape(-1,1)"
      ]
    },
    {
      "cell_type": "code",
      "execution_count": null,
      "id": "59140f96",
      "metadata": {
        "id": "59140f96"
      },
      "outputs": [],
      "source": []
    }
  ],
  "metadata": {
    "kernelspec": {
      "display_name": "Python 3",
      "language": "python",
      "name": "python3"
    },
    "language_info": {
      "codemirror_mode": {
        "name": "ipython",
        "version": 3
      },
      "file_extension": ".py",
      "mimetype": "text/x-python",
      "name": "python",
      "nbconvert_exporter": "python",
      "pygments_lexer": "ipython3",
      "version": "3.8.8"
    },
    "colab": {
      "provenance": [],
      "include_colab_link": true
    }
  },
  "nbformat": 4,
  "nbformat_minor": 5
}